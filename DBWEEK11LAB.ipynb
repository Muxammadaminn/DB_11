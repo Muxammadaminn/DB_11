{
  "nbformat": 4,
  "nbformat_minor": 0,
  "metadata": {
    "colab": {
      "provenance": [],
      "collapsed_sections": []
    },
    "kernelspec": {
      "name": "python3",
      "display_name": "Python 3"
    },
    "language_info": {
      "name": "python"
    }
  },
  "cells": [
    {
      "cell_type": "code",
      "source": [
        "from sqlalchemy import create_engine\n",
        "my_conn = create_engine(\"sqlite:////content/my_db.db\")"
      ],
      "metadata": {
        "id": "22HcAxTXcG8I"
      },
      "execution_count": 13,
      "outputs": []
    },
    {
      "cell_type": "code",
      "source": [
        "from sqlalchemy.exc import SQLAlchemyError\n",
        "q=\"SELECT * FROM student WHERE mark BETWEEN 65 AND 75\"\n",
        "try:\n",
        "  r_set=my_conn.execute(q)  \n",
        "  r_list=r_set.fetchall()\n",
        "  for row in r_list:\n",
        "    print(row)\n",
        "except SQLAlchemyError as e:\n",
        "  error=str(e.__dict__['orig'])\n",
        "  print(error)\n",
        "else:\n",
        "  print(\"Total Number of rows : \",len(r_list))"
      ],
      "metadata": {
        "id": "i9lQCdCBbrgy",
        "colab": {
          "base_uri": "https://localhost:8080/"
        },
        "outputId": "2790932e-6c33-41e1-c88f-74baba716ed9"
      },
      "execution_count": 14,
      "outputs": [
        {
          "output_type": "stream",
          "name": "stdout",
          "text": [
            "no such table: student\n"
          ]
        }
      ]
    },
    {
      "cell_type": "code",
      "source": [
        "from sqlalchemy.exc import SQLAlchemyError\n",
        "my_tuple=(65,75)\n",
        "q=\"SELECT * FROM student WHERE mark BETWEEN ? AND ?\"\n",
        "try:\n",
        "  r_set=my_conn.execute(q,my_tuple)  \n",
        "  r_list=r_set.fetchall()\n",
        "  for row in r_list:\n",
        "    print(row)\n",
        "except SQLAlchemyError as e:\n",
        "  error=str(e.__dict__['orig'])\n",
        "  print(error)\n",
        "else:\n",
        "  print(\"Total Number of rows : \",len(r_list))"
      ],
      "metadata": {
        "id": "B-a0gik3btJe",
        "colab": {
          "base_uri": "https://localhost:8080/"
        },
        "outputId": "c760165d-1ea4-4f64-e423-31ff85be90af"
      },
      "execution_count": 15,
      "outputs": [
        {
          "output_type": "stream",
          "name": "stdout",
          "text": [
            "no such table: student\n"
          ]
        }
      ]
    },
    {
      "cell_type": "code",
      "source": [
        "from sqlalchemy.exc import SQLAlchemyError\n",
        "my_tuple=(25,90)\n",
        "q=\"SELECT * FROM student WHERE mark NOT BETWEEN ? AND ?\"\n",
        "try:\n",
        "  r_set=my_conn.execute(q,my_tuple)  \n",
        "  r_list=r_set.fetchall()\n",
        "  for row in r_list:\n",
        "    print(row)\n",
        "except SQLAlchemyError as e:\n",
        "  error=str(e.__dict__['orig'])\n",
        "  print(error)\n",
        "else:\n",
        "  print(\"Total Number of rows : \",len(r_list))"
      ],
      "metadata": {
        "id": "dDg8NGO7bx-G",
        "colab": {
          "base_uri": "https://localhost:8080/"
        },
        "outputId": "ce36969a-0e71-4a35-eab9-bc5db3a5ed16"
      },
      "execution_count": 16,
      "outputs": [
        {
          "output_type": "stream",
          "name": "stdout",
          "text": [
            "no such table: student\n"
          ]
        }
      ]
    },
    {
      "cell_type": "code",
      "source": [
        "from sqlalchemy.exc import SQLAlchemyError\n",
        "my_tuple=(25,90)\n",
        "q=\"SELECT * FROM student WHERE mark NOT BETWEEN ? AND ?\"\n",
        "try:\n",
        "  r_set=my_conn.execute(q,my_tuple)  \n",
        "  r_list=r_set.fetchall()\n",
        "  for row in r_list:\n",
        "    print(row)\n",
        "except SQLAlchemyError as e:\n",
        "  error=str(e.__dict__['orig'])\n",
        "  print(error)\n",
        "else:\n",
        "  print(\"Total Number of rows : \",len(r_list))"
      ],
      "metadata": {
        "id": "JCt5GMtOb6wE",
        "colab": {
          "base_uri": "https://localhost:8080/"
        },
        "outputId": "4b34f8b5-073c-4eb1-8ace-65a5f3393c7c"
      },
      "execution_count": 17,
      "outputs": [
        {
          "output_type": "stream",
          "name": "stdout",
          "text": [
            "no such table: student\n"
          ]
        }
      ]
    },
    {
      "cell_type": "code",
      "source": [
        "from sqlalchemy.exc import SQLAlchemyError\n",
        "q=\"SELECT * FROM student ORDER BY class,mark DESC\"\n",
        "try:\n",
        "  r_set=my_conn.execute(q)  \n",
        "  r_list=r_set.fetchall()\n",
        "  for rows in r_list:\n",
        "    print(rows)\n",
        "except SQLAlchemyError as e:\n",
        "  error=str(e.__dict__['orig'])\n",
        "  print(error)\n",
        "else:\n",
        "  print(\"Total Number of rows : \",len(r_list))"
      ],
      "metadata": {
        "id": "oeFd8wcbcSi-",
        "colab": {
          "base_uri": "https://localhost:8080/"
        },
        "outputId": "059f2eee-573f-43c1-8b65-324fef9287f9"
      },
      "execution_count": null,
      "outputs": [
        {
          "output_type": "stream",
          "name": "stdout",
          "text": [
            "(23, 'Herod', 'Eight', 79, 'male')\n",
            "(8, 'Asruid', 'Five', 85, 'male')\n",
            "(7, 'My John Rob', 'Five', 78, 'male')\n",
            "(18, 'Honny', 'Five', 75, 'male')\n",
            "(15, 'Tade Row', 'Four', 88, 'male')\n",
            "(16, 'Gimmy', 'Four', 88, 'male')\n",
            "(31, 'Marry Toeey', 'Four', 88, 'male')\n",
            "(1, 'John Deo', 'Four', 75, 'female')\n",
            "(21, 'Babby John', 'Four', 69, 'female')\n",
            "(4, 'Krish Star', 'Four', 60, 'female')\n",
            "(5, 'John Mike', 'Four', 60, 'female')\n",
            "(6, 'Alex John', 'Four', 55, 'male')\n",
            "(10, 'Big John', 'Four', 55, 'female')\n",
            "(20, 'Jackly', 'Nine', 65, 'female')\n",
            "(19, 'Tinny', 'Nine', 18, 'male')\n",
            "(32, 'Binn Rott', 'Seven', 90, 'female')\n",
            "(13, 'Kty', 'Seven', 88, 'female')\n",
            "(14, 'Bigy', 'Seven', 88, 'female')\n",
            "(25, 'Giff Tow', 'Seven', 88, 'male')\n",
            "(28, 'Rojj Base', 'Seven', 86, 'female')\n",
            "(26, 'Crelea', 'Seven', 79, 'male')\n",
            "(24, 'Tiddy Now', 'Seven', 78, 'male')\n",
            "(34, 'Gain Toe', 'Seven', 69, 'male')\n",
            "(22, 'Reggid', 'Seven', 55, 'female')\n",
            "(29, 'Tess Played', 'Seven', 55, 'male')\n",
            "(33, 'Kenn Rein', 'Six', 96, 'female')\n",
            "(12, 'Recky', 'Six', 94, 'female')\n",
            "(11, 'Ronald', 'Six', 89, 'female')\n",
            "(35, 'Rows Noump', 'Six', 88, 'female')\n",
            "(30, 'Reppy Red', 'Six', 79, 'female')\n",
            "(9, 'Tes Qry', 'Six', 78, 'male')\n",
            "(17, 'Tumyu', 'Six', 54, 'male')\n",
            "(2, 'Max Ruin', 'Three', 85, 'male')\n",
            "(27, 'Big Nose', 'Three', 81, 'female')\n",
            "(3, 'Arnold', 'Three', 55, 'male')\n",
            "Total Number of rows :  35\n"
          ]
        }
      ]
    },
    {
      "cell_type": "code",
      "source": [
        "from sqlalchemy.exc import SQLAlchemyError\n",
        "q=\"SELECT * FROM student WHERE class='Five' ORDER BY mark DESC\"\n",
        "try:\n",
        "  r_set=my_conn.execute(q)  \n",
        "  r_list=r_set.fetchall()\n",
        "  for rows in r_list:\n",
        "    print(rows)\n",
        "except SQLAlchemyError as e:\n",
        "  error=str(e.__dict__['orig'])\n",
        "  print(error)\n",
        "else:\n",
        "  print(\"Total Number of rows : \",len(r_list))"
      ],
      "metadata": {
        "id": "SC4WZcktcUak",
        "colab": {
          "base_uri": "https://localhost:8080/"
        },
        "outputId": "d7c0f1c5-7895-4fc3-8a97-8cc0a0cd12db"
      },
      "execution_count": null,
      "outputs": [
        {
          "output_type": "stream",
          "name": "stdout",
          "text": [
            "(8, 'Asruid', 'Five', 85, 'male')\n",
            "(7, 'My John Rob', 'Five', 78, 'male')\n",
            "(18, 'Honny', 'Five', 75, 'male')\n",
            "Total Number of rows :  3\n"
          ]
        }
      ]
    },
    {
      "cell_type": "code",
      "source": [
        "from sqlalchemy.exc import SQLAlchemyError\n",
        "q=\"SELECT * FROM student WHERE class='Five' ORDER BY mark DESC LIMIT 1,1\"\n",
        "try:\n",
        "  r_set=my_conn.execute(q)  \n",
        "  r_list=r_set.fetchall()\n",
        "  for rows in r_list:\n",
        "    print(rows)\n",
        "except SQLAlchemyError as e:\n",
        "  error=str(e.__dict__['orig'])\n",
        "  print(error)\n",
        "else:\n",
        "  print(\"Total Number of rows : \",len(r_list))"
      ],
      "metadata": {
        "id": "FQrF42yQcYCH",
        "colab": {
          "base_uri": "https://localhost:8080/"
        },
        "outputId": "dddeba09-6274-4099-c080-199cc02a402a"
      },
      "execution_count": null,
      "outputs": [
        {
          "output_type": "stream",
          "name": "stdout",
          "text": [
            "(7, 'My John Rob', 'Five', 78, 'male')\n",
            "Total Number of rows :  1\n"
          ]
        }
      ]
    },
    {
      "cell_type": "code",
      "execution_count": null,
      "metadata": {
        "colab": {
          "base_uri": "https://localhost:8080/"
        },
        "id": "4gd3mVqRewTZ",
        "outputId": "5350fe70-3c1b-42b5-aeaf-4fd0b0675dd4"
      },
      "outputs": [
        {
          "output_type": "stream",
          "name": "stdout",
          "text": [
            "[('John', 'Doe', 80000), ('Jane', 'Doe', 90000)]\n",
            "[('Jane', 'Doe', 95000)]\n"
          ]
        }
      ],
      "source": [
        "import sqlite3\n",
        "from employee import Employee\n",
        "\n",
        "conn = sqlite3.connect(':memory:')\n",
        "\n",
        "c = conn.cursor()\n",
        "\n",
        "c.execute(\"\"\"CREATE TABLE employees (\n",
        "            first text,\n",
        "            last text,\n",
        "            pay integer\n",
        "            )\"\"\")\n",
        "\n",
        "\n",
        "def insert_emp(emp):\n",
        "    with conn:\n",
        "        c.execute(\"INSERT INTO employees VALUES (:first, :last, :pay)\", {'first': emp.first, 'last': emp.last, 'pay': emp.pay})\n",
        "\n",
        "\n",
        "def get_emps_by_name(lastname):\n",
        "    c.execute(\"SELECT * FROM employees WHERE last=:last\", {'last': lastname})\n",
        "    return c.fetchall()\n",
        "\n",
        "\n",
        "def update_pay(emp, pay):\n",
        "    with conn:\n",
        "        c.execute(\"\"\"UPDATE employees SET pay = :pay\n",
        "                    WHERE first = :first AND last = :last\"\"\",\n",
        "                  {'first': emp.first, 'last': emp.last, 'pay': pay})\n",
        "\n",
        "\n",
        "def remove_emp(emp):\n",
        "    with conn:\n",
        "        c.execute(\"DELETE from employees WHERE first = :first AND last = :last\",\n",
        "                  {'first': emp.first, 'last': emp.last})\n",
        "\n",
        "emp_1 = Employee('John', 'Doe', 80000)\n",
        "emp_2 = Employee('Jane', 'Doe', 90000)\n",
        "\n",
        "insert_emp(emp_1)\n",
        "insert_emp(emp_2)\n",
        "\n",
        "emps = get_emps_by_name('Doe')\n",
        "print(emps)\n",
        "\n",
        "update_pay(emp_2, 95000)\n",
        "remove_emp(emp_1)\n",
        "\n",
        "emps = get_emps_by_name('Doe')\n",
        "print(emps)\n",
        "\n",
        "conn.close()"
      ]
    }
  ]
}